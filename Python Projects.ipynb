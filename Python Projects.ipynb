{
 "cells": [
  {
   "cell_type": "markdown",
   "metadata": {},
   "source": [
    "### 1. Find PI to the Nth Digit"
   ]
  },
  {
   "cell_type": "code",
   "execution_count": 2,
   "metadata": {},
   "outputs": [],
   "source": [
    "from math import pi"
   ]
  },
  {
   "cell_type": "code",
   "execution_count": 5,
   "metadata": {},
   "outputs": [
    {
     "data": {
      "text/plain": [
       "3.141592653589793"
      ]
     },
     "execution_count": 5,
     "metadata": {},
     "output_type": "execute_result"
    }
   ],
   "source": [
    "pi"
   ]
  },
  {
   "cell_type": "code",
   "execution_count": 7,
   "metadata": {},
   "outputs": [],
   "source": [
    "string_pi = str(pi)"
   ]
  },
  {
   "cell_type": "code",
   "execution_count": 10,
   "metadata": {},
   "outputs": [],
   "source": [
    "def pi_to_nth_digit(n):\n",
    "    \n",
    "    for num in range(n):\n",
    "        yield string_pi[num]"
   ]
  },
  {
   "cell_type": "code",
   "execution_count": 24,
   "metadata": {},
   "outputs": [
    {
     "data": {
      "text/plain": [
       "3.14159"
      ]
     },
     "execution_count": 24,
     "metadata": {},
     "output_type": "execute_result"
    }
   ],
   "source": [
    "pi_list = []\n",
    "\n",
    "for num in pi_to_nth_digit(7):\n",
    "    pi_list.append(num)\n",
    "    \n",
    "x = \"\".join(pi_list)\n",
    "float(x)"
   ]
  },
  {
   "cell_type": "markdown",
   "metadata": {},
   "source": [
    "### 2. Find e to the Nth Digit"
   ]
  },
  {
   "cell_type": "code",
   "execution_count": 26,
   "metadata": {},
   "outputs": [],
   "source": [
    "import math\n",
    "string_e = str(math.e)\n",
    "\n",
    "def e_to_nth_digit(n):\n",
    "    \n",
    "    for num in range(n):\n",
    "        yield string_e[num]"
   ]
  },
  {
   "cell_type": "code",
   "execution_count": 27,
   "metadata": {},
   "outputs": [
    {
     "data": {
      "text/plain": [
       "2.7182818284"
      ]
     },
     "execution_count": 27,
     "metadata": {},
     "output_type": "execute_result"
    }
   ],
   "source": [
    "e_list = []\n",
    "\n",
    "for num in e_to_nth_digit(12):\n",
    "    e_list.append(num)\n",
    "\n",
    "y = \"\".join(e_list)\n",
    "float(y)"
   ]
  },
  {
   "cell_type": "markdown",
   "metadata": {},
   "source": [
    "### 3. Fibonacci Sequence"
   ]
  },
  {
   "cell_type": "code",
   "execution_count": 30,
   "metadata": {},
   "outputs": [],
   "source": [
    "def fibonacci(n):\n",
    "    \n",
    "    a = 1\n",
    "    b = 1\n",
    "    \n",
    "    for i in range(n):\n",
    "        yield a\n",
    "        a,b = b,a+b"
   ]
  },
  {
   "cell_type": "code",
   "execution_count": 31,
   "metadata": {},
   "outputs": [
    {
     "name": "stdout",
     "output_type": "stream",
     "text": [
      "1\n",
      "1\n",
      "2\n",
      "3\n",
      "5\n",
      "8\n",
      "13\n",
      "21\n",
      "34\n",
      "55\n"
     ]
    }
   ],
   "source": [
    "for num in fibonacci(10):\n",
    "    print(num)"
   ]
  },
  {
   "cell_type": "markdown",
   "metadata": {},
   "source": [
    "### 4. Prime Factorization"
   ]
  },
  {
   "cell_type": "code",
   "execution_count": 3,
   "metadata": {},
   "outputs": [
    {
     "name": "stdout",
     "output_type": "stream",
     "text": [
      "Please enter a number: 678\n",
      "2 is a Prime Factor of a Given Number 678\n",
      "3 is a Prime Factor of a Given Number 678\n",
      "113 is a Prime Factor of a Given Number 678\n"
     ]
    }
   ],
   "source": [
    "Number = int(input(\"Please enter a number: \"))\n",
    "\n",
    "for i in range(2,Number + 1):\n",
    "    if Number%i == 0:\n",
    "        isprime = 1\n",
    "        for j in range(2,(i //2 + 1)):\n",
    "            if i % j == 0:\n",
    "                isprime = 0\n",
    "                break\n",
    "                \n",
    "        if (isprime == 1):\n",
    "            print(\"{} is a Prime Factor of a Given Number {}\".format(i,Number))"
   ]
  },
  {
   "cell_type": "code",
   "execution_count": 3,
   "metadata": {},
   "outputs": [],
   "source": [
    "def prime_fact(x):\n",
    "    \n",
    "    prime_factors = []\n",
    "    divisor = 2\n",
    "    while divisor <= x:\n",
    "        if x%divisor == 0:\n",
    "            prime_factors.append(divisor)\n",
    "            x = x/divisor\n",
    "        else:\n",
    "            divisor += 1 # divisor =  divisor + 1\n",
    "    return prime_factors"
   ]
  },
  {
   "cell_type": "code",
   "execution_count": 4,
   "metadata": {},
   "outputs": [
    {
     "name": "stdout",
     "output_type": "stream",
     "text": [
      "[2, 3, 3, 5, 7]\n"
     ]
    }
   ],
   "source": [
    "print(prime_fact(630))"
   ]
  },
  {
   "cell_type": "code",
   "execution_count": 5,
   "metadata": {},
   "outputs": [
    {
     "name": "stdout",
     "output_type": "stream",
     "text": [
      "[5, 7, 7]\n"
     ]
    }
   ],
   "source": [
    "print(prime_fact(245))"
   ]
  },
  {
   "cell_type": "code",
   "execution_count": 6,
   "metadata": {},
   "outputs": [
    {
     "name": "stdout",
     "output_type": "stream",
     "text": [
      "[2, 3, 23]\n"
     ]
    }
   ],
   "source": [
    "print(prime_fact(138))"
   ]
  },
  {
   "cell_type": "markdown",
   "metadata": {},
   "source": [
    "### 5. Next Prime Number"
   ]
  },
  {
   "cell_type": "code",
   "execution_count": 11,
   "metadata": {},
   "outputs": [],
   "source": [
    "def next_prime(number):\n",
    "    \n",
    "    lst = []\n",
    "    i = 0\n",
    "    \n",
    "    while True :\n",
    "        \n",
    "        prime_nums = prime_fact(number)\n",
    "        \n",
    "        if i < len(prime_nums):\n",
    "            lst.append(prime_nums[i])\n",
    "            print(lst)\n",
    "        else:\n",
    "            print(\"\\nNo more prime numebrs!\")\n",
    "            break\n",
    "        \n",
    "        x = ''\n",
    "        \n",
    "        while x not in ['y','n']:\n",
    "            \n",
    "            x = input(\"Do you want to reveal another number? Enter 'Yes' or 'No'\")\n",
    "            \n",
    "            if x[0].lower() not in ['y','n']:\n",
    "                print(\"\\nInvalid choice!\")\n",
    "        \n",
    "        if x[0].lower() == 'y':\n",
    "            i += 1\n",
    "            continue\n",
    "        else:\n",
    "            return lst"
   ]
  },
  {
   "cell_type": "code",
   "execution_count": 14,
   "metadata": {},
   "outputs": [
    {
     "name": "stdout",
     "output_type": "stream",
     "text": [
      "[5]\n",
      "Do you want to reveal another number? Enter 'Yes' or 'No'no\n",
      "Do you want to reveal another number? Enter 'Yes' or 'No'y\n",
      "[5, 7]\n",
      "Do you want to reveal another number? Enter 'Yes' or 'No'y\n",
      "[5, 7, 7]\n",
      "Do you want to reveal another number? Enter 'Yes' or 'No'y\n",
      "\n",
      "No more prime numebrs!\n"
     ]
    }
   ],
   "source": [
    "next_prime(245)"
   ]
  },
  {
   "cell_type": "markdown",
   "metadata": {},
   "source": [
    "### 6. Find Cost of Tile to Cover W x H Floor"
   ]
  },
  {
   "cell_type": "code",
   "execution_count": 7,
   "metadata": {},
   "outputs": [],
   "source": [
    "# Typical Bedroom Dimensions\n",
    "# Width = 14 feet/4.2 Metres\n",
    "# Height = 16 feet/4.8M Metres\n",
    "# We're assuming the cost entered by the user to be per square metre"
   ]
  },
  {
   "cell_type": "code",
   "execution_count": 14,
   "metadata": {},
   "outputs": [],
   "source": [
    "def total_tile_cost():\n",
    "    \n",
    "    while True:\n",
    "        \n",
    "        try:\n",
    "            width = int(input(\"Enter width of floor: \"))\n",
    "            height = int(input(\"\\nEnter height of floor: \"))\n",
    "            cost = int(input(\"\\nPlease enter your desired cost: \"))\n",
    "        except:\n",
    "            print(\"\\nNot an integer! Please try again!\")\n",
    "            continue\n",
    "        else:\n",
    "            print(\"\\nThe total cost is {}\".format(width * height * cost))\n",
    "            break"
   ]
  },
  {
   "cell_type": "code",
   "execution_count": 16,
   "metadata": {},
   "outputs": [
    {
     "name": "stdout",
     "output_type": "stream",
     "text": [
      "Enter width of floor: 50\n",
      "\n",
      "Enter height of floor: ninety five\n",
      "\n",
      "Not an integer! Please try again!\n",
      "Enter width of floor: 50\n",
      "\n",
      "Enter height of floor: 95\n",
      "\n",
      "Please enter your desired cost: 4000\n",
      "\n",
      "The total cost is 19000000\n"
     ]
    }
   ],
   "source": [
    "total_tile_cost()"
   ]
  },
  {
   "cell_type": "markdown",
   "metadata": {},
   "source": [
    "### 7. Mortgage Calculator"
   ]
  },
  {
   "cell_type": "code",
   "execution_count": 36,
   "metadata": {},
   "outputs": [],
   "source": [
    "# Calculate the monthly payments!\n",
    "\n",
    "def mortgage_calculator():\n",
    "    \n",
    "    while True:\n",
    "        \n",
    "        try:\n",
    "            income = int(input(\"\\nGross annual income: \"))\n",
    "            int_rate = float(input(\"\\nInterest Rate: \"))\n",
    "            terms = int(input(\"\\nHow long we talking: \"))\n",
    "            mortgage = int(input(\"\\nMortgage: \"))\n",
    "        except:\n",
    "            print(\"\\nNot an integer! Please try again!\")\n",
    "            continue\n",
    "        else:\n",
    "            x = mortgage * (int_rate/100)\n",
    "            new_total = mortgage + (x * (terms - 1))\n",
    "            print(\"\\nMonthly payments come to {} a month\".format((new_total/terms)/12))\n",
    "            print(\"\\nTime expected to pay off loan, {} years\".format(new_total//income))\n",
    "            break"
   ]
  },
  {
   "cell_type": "code",
   "execution_count": 37,
   "metadata": {
    "scrolled": true
   },
   "outputs": [
    {
     "name": "stdout",
     "output_type": "stream",
     "text": [
      "\n",
      "Gross annual income: 60000\n",
      "\n",
      "Interest Rate: 3.6\n",
      "\n",
      "How long we talking: 4\n",
      "\n",
      "Mortgage: 105000\n",
      "\n",
      "Monthly payments come to 2423.75 a month\n",
      "\n",
      "Time expected to pay off loan, 1.0 years\n"
     ]
    }
   ],
   "source": [
    "mortgage_calculator()"
   ]
  },
  {
   "cell_type": "markdown",
   "metadata": {},
   "source": [
    "### 8. Change Return Program"
   ]
  },
  {
   "cell_type": "code",
   "execution_count": 15,
   "metadata": {},
   "outputs": [],
   "source": [
    "def change_return():\n",
    "    \n",
    "    while True:\n",
    "        \n",
    "        try:\n",
    "            cost = float(input(\"\\nCost of item: \"))\n",
    "            money = float(input(\"\\nMoney: \"))\n",
    "        except:\n",
    "            print(\"\\nNot an integer! Please try again!\")\n",
    "            continue\n",
    "        else:\n",
    "            change = money - cost\n",
    "            number_dec = str(change - int(change))[1:]\n",
    "            print(\"\\nHere's your change, {} pounds and {} pence\".format(int(change),number_dec))\n",
    "            break"
   ]
  },
  {
   "cell_type": "code",
   "execution_count": 16,
   "metadata": {
    "scrolled": true
   },
   "outputs": [
    {
     "name": "stdout",
     "output_type": "stream",
     "text": [
      "\n",
      "Cost of item: 25.50\n",
      "\n",
      "Money: 25.75\n",
      "\n",
      "Here's your change, 0 pounds and .25 pence\n"
     ]
    }
   ],
   "source": [
    "change_return()"
   ]
  },
  {
   "cell_type": "markdown",
   "metadata": {},
   "source": [
    "### 9. Unit Converter(temp,currency,volume and mass)"
   ]
  },
  {
   "cell_type": "markdown",
   "metadata": {},
   "source": [
    "#### Temperature Converter"
   ]
  },
  {
   "cell_type": "code",
   "execution_count": 1,
   "metadata": {},
   "outputs": [],
   "source": [
    "def temp_converter(temp):\n",
    "    \n",
    "    while True:\n",
    "        \n",
    "        x = input(\"Converting T0 Celsius or Fahrenheit, enter 'c' or 'f'\")\n",
    "        \n",
    "        # Celsius to Fahrenheit\n",
    "        if x[0].lower() == 'f':\n",
    "            temp = (temp * 1.8) + 32\n",
    "            print(\"{} degrees Fahrenheit\".format(temp))\n",
    "            break\n",
    "        \n",
    "        # Fahrenheit to Celcius\n",
    "        if x[0].lower() == 'c':\n",
    "            temp = (temp - 32) * (5/9)\n",
    "            print(\"{} degrees Celsius\".format(temp))\n",
    "            break\n",
    "            \n",
    "        else:\n",
    "            print(\"Invalid option!\")\n",
    "            continue"
   ]
  },
  {
   "cell_type": "code",
   "execution_count": 3,
   "metadata": {},
   "outputs": [
    {
     "name": "stdout",
     "output_type": "stream",
     "text": [
      "Converting T0 Celsius or Fahrenheit, enter 'c' or 'f'f\n",
      "302.0 degrees Fahrenheit\n"
     ]
    }
   ],
   "source": [
    "temp_converter(150)"
   ]
  },
  {
   "cell_type": "code",
   "execution_count": 4,
   "metadata": {},
   "outputs": [
    {
     "name": "stdout",
     "output_type": "stream",
     "text": [
      "Converting T0 Celsius or Fahrenheit, enter 'c' or 'f'c\n",
      "10.0 degrees Celsius\n"
     ]
    }
   ],
   "source": [
    "temp_converter(50)"
   ]
  },
  {
   "cell_type": "markdown",
   "metadata": {},
   "source": [
    "#### Currency Converter"
   ]
  },
  {
   "cell_type": "markdown",
   "metadata": {},
   "source": [
    "As of this moment in time:\n",
    "\n",
    "$1 = £0.71\n",
    "£1 = $1.41"
   ]
  },
  {
   "cell_type": "code",
   "execution_count": 7,
   "metadata": {},
   "outputs": [],
   "source": [
    "def currency_converter(money):\n",
    "    \n",
    "    while True:\n",
    "        \n",
    "        x = input(\"Converting TO Dollars or TO Pounds, enter 'd' or 'p'\")\n",
    "        \n",
    "        # Dollars to Pounds\n",
    "        if x[0].lower() == 'p':\n",
    "            money = money*0.71\n",
    "            print(\"£{}\".format(money))\n",
    "            break\n",
    "            \n",
    "        # Pounds to Dollars\n",
    "        elif x[0].lower() == 'd':\n",
    "            money = money*1.41\n",
    "            print(\"${}\".format(money))\n",
    "            break\n",
    "            \n",
    "        else:\n",
    "            print(\"Invalid option! Please try again!\")\n",
    "            continue"
   ]
  },
  {
   "cell_type": "code",
   "execution_count": 8,
   "metadata": {},
   "outputs": [
    {
     "name": "stdout",
     "output_type": "stream",
     "text": [
      "Converting TO Dollars or TO Pounds, enter 'd' or 'p'd\n",
      "$56.4\n"
     ]
    }
   ],
   "source": [
    "currency_converter(40)"
   ]
  },
  {
   "cell_type": "code",
   "execution_count": 9,
   "metadata": {},
   "outputs": [
    {
     "name": "stdout",
     "output_type": "stream",
     "text": [
      "Converting TO Dollars or TO Pounds, enter 'd' or 'p'p\n",
      "£53.25\n"
     ]
    }
   ],
   "source": [
    "currency_converter(75)"
   ]
  },
  {
   "cell_type": "markdown",
   "metadata": {},
   "source": [
    "#### Volume Converter"
   ]
  },
  {
   "cell_type": "code",
   "execution_count": 1,
   "metadata": {},
   "outputs": [],
   "source": [
    "def volume_converter(n):\n",
    "    \n",
    "    while True:\n",
    "        \n",
    "        x = input(\"Converting TO Pints or TO Millilitres, enter 'p' or 'm'\")\n",
    "        \n",
    "        # Litres to pints\n",
    "        if x[0].lower() == 'p':\n",
    "            n = n*1.76\n",
    "            print(f\"{n} pints\")\n",
    "            break\n",
    "            \n",
    "        # Litres to millilitres\n",
    "        if x[0].lower() == 'm':\n",
    "            n = n*1000\n",
    "            print(f\"{n} ml\")\n",
    "            break\n",
    "            \n",
    "        else:\n",
    "            print(\"Invalid option! Please try again!\")\n",
    "            continue"
   ]
  },
  {
   "cell_type": "code",
   "execution_count": 2,
   "metadata": {},
   "outputs": [
    {
     "name": "stdout",
     "output_type": "stream",
     "text": [
      "Converting TO Pints or TO Millilitres, enter 'p' or 'm'p\n",
      "17.6 pints\n"
     ]
    }
   ],
   "source": [
    "volume_converter(10)"
   ]
  },
  {
   "cell_type": "markdown",
   "metadata": {},
   "source": [
    "#### Mass Converter"
   ]
  },
  {
   "cell_type": "code",
   "execution_count": 3,
   "metadata": {},
   "outputs": [],
   "source": [
    "def mass_converter(mass):\n",
    "    \n",
    "    while True:\n",
    "        \n",
    "        x = input(\"Converting TO Kilograms or TO Stones, enter 'k' or 's'\")\n",
    "        \n",
    "        # Stones to Kilograms\n",
    "        if x[0].lower() == 'k':\n",
    "            mass = mass/0.15747\n",
    "            print(\"{} kg\".format(mass))\n",
    "            break\n",
    "        \n",
    "        # Kilograms to Stones\n",
    "        if x[0].lower() == 's':\n",
    "            mass = mass*0.15747\n",
    "            print(\"{} lb\".format(mass))\n",
    "            break\n",
    "        \n",
    "        else:\n",
    "            print(\"Invalid option! Please try again!\")\n",
    "            continue"
   ]
  },
  {
   "cell_type": "code",
   "execution_count": 5,
   "metadata": {},
   "outputs": [
    {
     "name": "stdout",
     "output_type": "stream",
     "text": [
      "Converting TO Kilograms or TO Stones, enter 'k' or 's's\n",
      "11.0229 lb\n"
     ]
    }
   ],
   "source": [
    "mass_converter(70)"
   ]
  },
  {
   "cell_type": "markdown",
   "metadata": {},
   "source": [
    "### 10. Coin Flip Simulation"
   ]
  },
  {
   "cell_type": "code",
   "execution_count": 1,
   "metadata": {},
   "outputs": [],
   "source": [
    "import random"
   ]
  },
  {
   "cell_type": "code",
   "execution_count": 2,
   "metadata": {},
   "outputs": [],
   "source": [
    "from collections import Counter"
   ]
  },
  {
   "cell_type": "code",
   "execution_count": 3,
   "metadata": {},
   "outputs": [],
   "source": [
    "def coin_flip_sim(n):\n",
    "    \n",
    "    coin_list = []\n",
    "    x = 0\n",
    "    \n",
    "    while x < n:\n",
    "        \n",
    "        coin_flip = random.randint(0,1)\n",
    "        \n",
    "        if coin_flip == 0:\n",
    "            coin_list.append('Heads')\n",
    "        elif coin_flip == 1:\n",
    "            coin_list.append('Tails')\n",
    "        \n",
    "        x += 1\n",
    "            \n",
    "    return Counter(coin_list)            "
   ]
  },
  {
   "cell_type": "code",
   "execution_count": 5,
   "metadata": {},
   "outputs": [
    {
     "data": {
      "text/plain": [
       "Counter({'Heads': 496, 'Tails': 504})"
      ]
     },
     "execution_count": 5,
     "metadata": {},
     "output_type": "execute_result"
    }
   ],
   "source": [
    "coin_flip_sim(1000)"
   ]
  },
  {
   "cell_type": "markdown",
   "metadata": {},
   "source": [
    "### 11. Collatz Conjecture"
   ]
  },
  {
   "cell_type": "code",
   "execution_count": 12,
   "metadata": {},
   "outputs": [],
   "source": [
    "def collatz_conjecture(n):\n",
    "    \n",
    "    sequence = []\n",
    "    \n",
    "    while n > 1:\n",
    "        \n",
    "        if n%2 == 0:\n",
    "            n = n/2\n",
    "            sequence.append(n)\n",
    "        else:\n",
    "            n = (3*n) + 1\n",
    "            sequence.append(n)\n",
    "    \n",
    "    print(\"Number of steps: {}\".format(len(sequence)))\n",
    "    print(\"\\n{}\".format(sequence))"
   ]
  },
  {
   "cell_type": "code",
   "execution_count": 13,
   "metadata": {},
   "outputs": [
    {
     "name": "stdout",
     "output_type": "stream",
     "text": [
      "Number of steps: 111\n",
      "\n",
      "[82, 41.0, 124.0, 62.0, 31.0, 94.0, 47.0, 142.0, 71.0, 214.0, 107.0, 322.0, 161.0, 484.0, 242.0, 121.0, 364.0, 182.0, 91.0, 274.0, 137.0, 412.0, 206.0, 103.0, 310.0, 155.0, 466.0, 233.0, 700.0, 350.0, 175.0, 526.0, 263.0, 790.0, 395.0, 1186.0, 593.0, 1780.0, 890.0, 445.0, 1336.0, 668.0, 334.0, 167.0, 502.0, 251.0, 754.0, 377.0, 1132.0, 566.0, 283.0, 850.0, 425.0, 1276.0, 638.0, 319.0, 958.0, 479.0, 1438.0, 719.0, 2158.0, 1079.0, 3238.0, 1619.0, 4858.0, 2429.0, 7288.0, 3644.0, 1822.0, 911.0, 2734.0, 1367.0, 4102.0, 2051.0, 6154.0, 3077.0, 9232.0, 4616.0, 2308.0, 1154.0, 577.0, 1732.0, 866.0, 433.0, 1300.0, 650.0, 325.0, 976.0, 488.0, 244.0, 122.0, 61.0, 184.0, 92.0, 46.0, 23.0, 70.0, 35.0, 106.0, 53.0, 160.0, 80.0, 40.0, 20.0, 10.0, 5.0, 16.0, 8.0, 4.0, 2.0, 1.0]\n"
     ]
    }
   ],
   "source": [
    "collatz_conjecture(27)"
   ]
  },
  {
   "cell_type": "markdown",
   "metadata": {},
   "source": [
    "### 12. Pig Latin"
   ]
  },
  {
   "cell_type": "code",
   "execution_count": 1,
   "metadata": {},
   "outputs": [],
   "source": [
    "def pig_latin(string):\n",
    "    \n",
    "    if string[0].lower() not in 'aeiou':\n",
    "        print(string[1:] + string[0] + 'ay')\n",
    "    else:\n",
    "        print(string + 'ay')"
   ]
  },
  {
   "cell_type": "code",
   "execution_count": 2,
   "metadata": {},
   "outputs": [
    {
     "name": "stdout",
     "output_type": "stream",
     "text": [
      "igpay\n"
     ]
    }
   ],
   "source": [
    "pig_latin('pig')"
   ]
  },
  {
   "cell_type": "code",
   "execution_count": 3,
   "metadata": {},
   "outputs": [
    {
     "name": "stdout",
     "output_type": "stream",
     "text": [
      "eatay\n"
     ]
    }
   ],
   "source": [
    "pig_latin('eat')"
   ]
  },
  {
   "cell_type": "markdown",
   "metadata": {},
   "source": [
    "### 13. Reverse a String"
   ]
  },
  {
   "cell_type": "code",
   "execution_count": 1,
   "metadata": {},
   "outputs": [],
   "source": [
    "def reverse(string):\n",
    "    return string[::-1]"
   ]
  },
  {
   "cell_type": "code",
   "execution_count": 2,
   "metadata": {},
   "outputs": [
    {
     "data": {
      "text/plain": [
       "'yeknom'"
      ]
     },
     "execution_count": 2,
     "metadata": {},
     "output_type": "execute_result"
    }
   ],
   "source": [
    "reverse('monkey')"
   ]
  },
  {
   "cell_type": "markdown",
   "metadata": {},
   "source": [
    "### 14. Count Vowels"
   ]
  },
  {
   "cell_type": "code",
   "execution_count": 5,
   "metadata": {},
   "outputs": [],
   "source": [
    "from collections import Counter\n",
    "\n",
    "def vowel_counter(string):\n",
    "    \n",
    "    x = 0\n",
    "    vowels = []\n",
    "    \n",
    "    for letter in string:\n",
    "        if letter in 'aeiou':\n",
    "            x += 1\n",
    "            vowels.append(letter)\n",
    "    \n",
    "    print(x)\n",
    "    return Counter(vowels)"
   ]
  },
  {
   "cell_type": "code",
   "execution_count": 7,
   "metadata": {},
   "outputs": [
    {
     "name": "stdout",
     "output_type": "stream",
     "text": [
      "38\n"
     ]
    },
    {
     "data": {
      "text/plain": [
       "Counter({'e': 13, 'a': 7, 'i': 4, 'o': 10, 'u': 4})"
      ]
     },
     "execution_count": 7,
     "metadata": {},
     "output_type": "execute_result"
    }
   ],
   "source": [
    "vowel_counter('Enter a string and the program counts the number of vowels in the text. For added complexity have it report a sum of each vowel found')"
   ]
  },
  {
   "cell_type": "markdown",
   "metadata": {},
   "source": [
    "### 15. Palindrome"
   ]
  },
  {
   "cell_type": "code",
   "execution_count": 14,
   "metadata": {},
   "outputs": [],
   "source": [
    "def palindrome(string):\n",
    "    \n",
    "    x = string\n",
    "    sentence = x.replace(' ','')\n",
    "    \n",
    "    if sentence.lower() == sentence[::-1].lower():\n",
    "        return True\n",
    "    else:\n",
    "        return False"
   ]
  },
  {
   "cell_type": "code",
   "execution_count": 15,
   "metadata": {},
   "outputs": [
    {
     "data": {
      "text/plain": [
       "True"
      ]
     },
     "execution_count": 15,
     "metadata": {},
     "output_type": "execute_result"
    }
   ],
   "source": [
    "palindrome('was it a car or a cat i saw')"
   ]
  },
  {
   "cell_type": "markdown",
   "metadata": {},
   "source": [
    "### 16. Count Words in a String"
   ]
  },
  {
   "cell_type": "code",
   "execution_count": 74,
   "metadata": {},
   "outputs": [],
   "source": [
    "from collections import Counter\n",
    "\n",
    "def counting_words(file):\n",
    "    \n",
    "    words = []\n",
    "    \n",
    "    for line in open(file):\n",
    "        for word in line:\n",
    "            words.append(word)\n",
    "            \n",
    "    y = \"\".join(words)\n",
    "    c = y.split()\n",
    "    \n",
    "    return Counter(c)"
   ]
  },
  {
   "cell_type": "code",
   "execution_count": 75,
   "metadata": {},
   "outputs": [
    {
     "data": {
      "text/plain": [
       "Counter({'ONE': 1,\n",
       "         'ON': 4,\n",
       "         'FIRST': 1,\n",
       "         'TWO': 1,\n",
       "         'SECOND': 1,\n",
       "         'THREE': 1,\n",
       "         'THIRD': 1,\n",
       "         'FOUR': 1,\n",
       "         'FOURTH': 1})"
      ]
     },
     "execution_count": 75,
     "metadata": {},
     "output_type": "execute_result"
    }
   ],
   "source": [
    "open_file('my_new_file.txt')"
   ]
  },
  {
   "cell_type": "markdown",
   "metadata": {},
   "source": [
    "### 17. Airline System"
   ]
  },
  {
   "cell_type": "code",
   "execution_count": 8,
   "metadata": {},
   "outputs": [],
   "source": [
    "class Airline():\n",
    "    \n",
    "    def __init__(self,first_class,business,economy):\n",
    "        self.first_class = first_class\n",
    "        self.business = business\n",
    "        self.economy = economy\n",
    "        self.total = self.first_class + self.business + self.economy\n",
    "        \n",
    "        if self.total == 0:\n",
    "            print(\"Flight FULLY BOOKED!\")\n",
    "        \n",
    "    def booking_first_class(self):\n",
    "        print(\"Average Ticket Cost: £4000\")\n",
    "        self.first_class = self.first_class - 1\n",
    "        \n",
    "    def booking_business(self):\n",
    "        print(\"Average Ticket Cost: £1500\")\n",
    "        self.business = self.business - 1\n",
    "        \n",
    "    def booking_economy(self):\n",
    "        print(\"Average Ticket Cost: £350\")\n",
    "        self.economy = self.economy - 1   "
   ]
  },
  {
   "cell_type": "code",
   "execution_count": 9,
   "metadata": {},
   "outputs": [],
   "source": [
    "emirates = Airline(12,26,72)"
   ]
  },
  {
   "cell_type": "code",
   "execution_count": 10,
   "metadata": {},
   "outputs": [
    {
     "data": {
      "text/plain": [
       "12"
      ]
     },
     "execution_count": 10,
     "metadata": {},
     "output_type": "execute_result"
    }
   ],
   "source": [
    "emirates.first_class"
   ]
  },
  {
   "cell_type": "code",
   "execution_count": 11,
   "metadata": {},
   "outputs": [
    {
     "data": {
      "text/plain": [
       "110"
      ]
     },
     "execution_count": 11,
     "metadata": {},
     "output_type": "execute_result"
    }
   ],
   "source": [
    "emirates.total"
   ]
  },
  {
   "cell_type": "code",
   "execution_count": 12,
   "metadata": {},
   "outputs": [
    {
     "name": "stdout",
     "output_type": "stream",
     "text": [
      "Average Ticket Cost: £4000\n"
     ]
    }
   ],
   "source": [
    "emirates.booking_first_class()"
   ]
  },
  {
   "cell_type": "code",
   "execution_count": 13,
   "metadata": {},
   "outputs": [
    {
     "data": {
      "text/plain": [
       "11"
      ]
     },
     "execution_count": 13,
     "metadata": {},
     "output_type": "execute_result"
    }
   ],
   "source": [
    "emirates.first_class"
   ]
  },
  {
   "cell_type": "markdown",
   "metadata": {},
   "source": [
    "### 18. Bank Account Manager"
   ]
  },
  {
   "cell_type": "code",
   "execution_count": 1,
   "metadata": {},
   "outputs": [],
   "source": [
    "class Account:\n",
    "    \n",
    "    def __init__(self,owner,balance):\n",
    "        self.owner = owner\n",
    "        self.balance = balance\n",
    "        \n",
    "    def __repr__(self):\n",
    "        return \"Account('{}','{}')\".format(self.owner,self.balance)\n",
    "    \n",
    "    def __str__(self):\n",
    "        return f\"Account Owner: {self.owner} | Account Balance: {self.balance}\"\n",
    "        \n",
    "    \n",
    "class CheckingAccount(Account):\n",
    "    \n",
    "    def deposit(self,money):\n",
    "        self.balance += money\n",
    "        print(\"Deposit Accepted!\")\n",
    "        print(self.balance)\n",
    "        \n",
    "    def withdraw(self,money):\n",
    "        if money < self.balance:\n",
    "            self.balance -= money\n",
    "            print(\"Withdrawal Accepted!\")\n",
    "            print(self.balance)\n",
    "        else:\n",
    "            print(\"Funds Available\")\n",
    "            \n",
    "class SavingsAccount(Account):\n",
    "    \n",
    "    interest_rate = 1.50\n",
    "    \n",
    "    def savings_deposit(self,money):\n",
    "        self.balance += money\n",
    "        print(\"Deposit Accepted!\")\n",
    "        print(self.balance)\n",
    "        \n",
    "    def apply_interest(self):\n",
    "        return self.balance * SavingsAccount.interest_rate\n",
    "    \n",
    "class BusinessAccount(Account):\n",
    "    \n",
    "    def __init__(self,owner,balance,employee_payroll):\n",
    "        super().__init__(owner,balance)\n",
    "        self.employee_payroll = employee_payroll"
   ]
  },
  {
   "cell_type": "code",
   "execution_count": 2,
   "metadata": {},
   "outputs": [],
   "source": [
    "hybe = BusinessAccount('HYBE',1500000,800000)"
   ]
  },
  {
   "cell_type": "code",
   "execution_count": 6,
   "metadata": {},
   "outputs": [],
   "source": [
    "k_acct1 = CheckingAccount('Kathleen',500)\n",
    "k_accc2 = SavingsAccount('Kathleen',0)"
   ]
  },
  {
   "cell_type": "markdown",
   "metadata": {},
   "source": [
    "### 19. Company Manager"
   ]
  },
  {
   "cell_type": "code",
   "execution_count": 29,
   "metadata": {},
   "outputs": [],
   "source": [
    "class Employee:\n",
    "    \n",
    "    def __init__(self,first,last,age,pay):\n",
    "        self.first = first\n",
    "        self.last = last\n",
    "        self.age = age\n",
    "        self.pay = pay # Varies for different Employee Types\n",
    "        self.email = \"{}.{}@company.com\".format(self.first,self.last)\n",
    "    \n",
    "    def fullname(self):\n",
    "        return \"{} {}\".format(self.first,self.last)\n",
    "    \n",
    "    # Methods applicable for\n",
    "    \n",
    "    def weekly_pay(self):\n",
    "        return (self.pay / 4)\n",
    "    \n",
    "    def annual_pay(self):\n",
    "        return (self.pay * 12)\n",
    "    \n",
    "    \n",
    "class HourlyEmployee(Employee):\n",
    "    \n",
    "    def __init__(self,first,last,age,pay,hours):\n",
    "        super().__init__(first,last,age,pay)\n",
    "        self.hours = hours\n",
    "    \n",
    "    # Pay for the day\n",
    "    def total_pay(self):\n",
    "        return self.pay * self.hours\n",
    "    \n",
    "    def overtime(self,hours):\n",
    "        overtime_pay = self.pay * hours\n",
    "        return self.total_pay() + overtime_pay\n",
    "    \n",
    "class SalariedEmployee(Employee):\n",
    "    pass\n",
    "    \n",
    "class Manager(Employee):\n",
    "    pass\n",
    "    \n",
    "class Executive(Employee):\n",
    "    pass\n",
    "\n",
    "class Company:\n",
    "    \n",
    "    def __init__(self,name,employees=None):\n",
    "        self.name = name\n",
    "        if employees is None:\n",
    "            self.employees = []\n",
    "        else:\n",
    "            self.employees = employees\n",
    "            \n",
    "    def hire_emp(self,emp):\n",
    "        if emp not in self.employees:\n",
    "            self.employees.append(emp)\n",
    "            print(\"You're Hired!\")\n",
    "            \n",
    "    def fire_emp(self,emp):\n",
    "        if emp in self.employees:\n",
    "            self.employees.remove(emp)\n",
    "            print(\"You're Fired!\")\n",
    "            \n",
    "    def print_emps(self):\n",
    "        for emp in self.employees:\n",
    "            print('-->',emp.fullname())\n",
    "            \n",
    "    def apply_raise(self,rise,emp):\n",
    "        emp.pay =  (emp.pay * rise)\n",
    "        return emp.pay"
   ]
  },
  {
   "cell_type": "code",
   "execution_count": 30,
   "metadata": {},
   "outputs": [],
   "source": [
    "sal_emp1 = SalariedEmployee('Shurkou','Utube',45,5000)\n",
    "sal_emp2 = SalariedEmployee('Kim','Namjoon',26,8000)\n",
    "\n",
    "mgr_emp1 = Manager('Karen','Tiffany',35,7500)\n",
    "\n",
    "exec_emp1 = Executive('Mr','Bang',62,15000)\n",
    "\n",
    "comp1 = Company('HYBE')"
   ]
  },
  {
   "cell_type": "code",
   "execution_count": 31,
   "metadata": {},
   "outputs": [
    {
     "name": "stdout",
     "output_type": "stream",
     "text": [
      "You're Hired!\n"
     ]
    }
   ],
   "source": [
    "comp1.hire_emp(exec_emp1)"
   ]
  },
  {
   "cell_type": "code",
   "execution_count": 32,
   "metadata": {},
   "outputs": [
    {
     "name": "stdout",
     "output_type": "stream",
     "text": [
      "You're Hired!\n",
      "You're Hired!\n",
      "You're Hired!\n"
     ]
    }
   ],
   "source": [
    "comp1.hire_emp(mgr_emp1)\n",
    "comp1.hire_emp(sal_emp1)\n",
    "comp1.hire_emp(sal_emp2)"
   ]
  },
  {
   "cell_type": "code",
   "execution_count": 33,
   "metadata": {},
   "outputs": [
    {
     "name": "stdout",
     "output_type": "stream",
     "text": [
      "--> Mr Bang\n",
      "--> Karen Tiffany\n",
      "--> Shurkou Utube\n",
      "--> Kim Namjoon\n"
     ]
    }
   ],
   "source": [
    "comp1.print_emps()"
   ]
  },
  {
   "cell_type": "code",
   "execution_count": 34,
   "metadata": {},
   "outputs": [
    {
     "data": {
      "text/plain": [
       "7500.0"
      ]
     },
     "execution_count": 34,
     "metadata": {},
     "output_type": "execute_result"
    }
   ],
   "source": [
    "comp1.apply_raise(1.50,sal_emp1)"
   ]
  },
  {
   "cell_type": "code",
   "execution_count": 35,
   "metadata": {},
   "outputs": [
    {
     "data": {
      "text/plain": [
       "7500.0"
      ]
     },
     "execution_count": 35,
     "metadata": {},
     "output_type": "execute_result"
    }
   ],
   "source": [
    "sal_emp1.pay"
   ]
  },
  {
   "cell_type": "markdown",
   "metadata": {},
   "source": [
    "### 20. Patient/Doctor Scheduler"
   ]
  },
  {
   "cell_type": "code",
   "execution_count": 4,
   "metadata": {},
   "outputs": [],
   "source": [
    "import datetime\n",
    "\n",
    "class Patient:\n",
    "    \n",
    "    def __init__(self,first,last,age,condition,appt=None):\n",
    "        self.first = first\n",
    "        self.last = last\n",
    "        self.age = age\n",
    "        self.condition = condition\n",
    "        self.email = \"{}.{}@gmail.com\".format(self.first,self.last)\n",
    "        if appt is None:\n",
    "            pass\n",
    "        else:\n",
    "            self.appt = appt\n",
    "        \n",
    "    def fullname(self):\n",
    "        return \"{} {}\".format(self.first,self.last)\n",
    "    \n",
    "class Doctor:\n",
    "    \n",
    "    def __init__(self,first,last,max_patients):\n",
    "        self.first = first\n",
    "        self.last = last\n",
    "        self.max_patients = max_patients\n",
    "        self.patients = []\n",
    "        self.appts = []\n",
    "        \n",
    "    def add_patient(self,patient):\n",
    "        if len(self.patients) < self.max_patients:\n",
    "            self.patients.append(patient)\n",
    "            return \"Patient added!\"\n",
    "        return \"Action not possible!\"\n",
    "\n",
    "    def scheduling(self,hour,minutes,patient):\n",
    "        if len(self.patients) <= self.max_patients:\n",
    "            appt = datetime.time(hour,minutes)\n",
    "            if appt not in self.appts:\n",
    "                self.appts.append(appt)\n",
    "                patient.appt = appt\n",
    "                print(\"Appointment booked!\")\n",
    "            else:\n",
    "                print(\"Sorry booked at this time!\")\n",
    "                \n",
    "    def patient_list(self):\n",
    "        for patient in self.patients:\n",
    "            print(\"--> Name : {} | Age : {} | Condition : {} | Appointment : {}\".format(patient.fullname(),patient.age,patient.condition,patient.appt))"
   ]
  },
  {
   "cell_type": "code",
   "execution_count": 5,
   "metadata": {},
   "outputs": [],
   "source": [
    "pat_1 = Patient('Don','Maclean',56,'Headache')\n",
    "pat_2 = Patient('Lebron','James',36,'LeFlop')\n",
    "\n",
    "doc_1 = Doctor('Michael','Jordan',16)"
   ]
  },
  {
   "cell_type": "code",
   "execution_count": 6,
   "metadata": {},
   "outputs": [
    {
     "data": {
      "text/plain": [
       "'Patient added!'"
      ]
     },
     "execution_count": 6,
     "metadata": {},
     "output_type": "execute_result"
    }
   ],
   "source": [
    "doc_1.add_patient(pat_1)"
   ]
  },
  {
   "cell_type": "code",
   "execution_count": 7,
   "metadata": {},
   "outputs": [
    {
     "name": "stdout",
     "output_type": "stream",
     "text": [
      "Appointment booked!\n"
     ]
    }
   ],
   "source": [
    "doc_1.scheduling(8,0,pat_1)"
   ]
  },
  {
   "cell_type": "code",
   "execution_count": 8,
   "metadata": {},
   "outputs": [
    {
     "name": "stdout",
     "output_type": "stream",
     "text": [
      "--> Name : Don Maclean | Age : 56 | Condition : Headache | Appointment : 08:00:00\n"
     ]
    }
   ],
   "source": [
    "doc_1.patient_list()"
   ]
  },
  {
   "cell_type": "code",
   "execution_count": 9,
   "metadata": {},
   "outputs": [
    {
     "data": {
      "text/plain": [
       "'Patient added!'"
      ]
     },
     "execution_count": 9,
     "metadata": {},
     "output_type": "execute_result"
    }
   ],
   "source": [
    "doc_1.add_patient(pat_2)"
   ]
  },
  {
   "cell_type": "code",
   "execution_count": 10,
   "metadata": {},
   "outputs": [
    {
     "name": "stdout",
     "output_type": "stream",
     "text": [
      "Appointment booked!\n"
     ]
    }
   ],
   "source": [
    "doc_1.scheduling(8,30,pat_2)"
   ]
  },
  {
   "cell_type": "code",
   "execution_count": 11,
   "metadata": {},
   "outputs": [
    {
     "name": "stdout",
     "output_type": "stream",
     "text": [
      "--> Name : Don Maclean | Age : 56 | Condition : Headache | Appointment : 08:00:00\n",
      "--> Name : Lebron James | Age : 36 | Condition : LeFlop | Appointment : 08:30:00\n"
     ]
    }
   ],
   "source": [
    "doc_1.patient_list()"
   ]
  },
  {
   "cell_type": "markdown",
   "metadata": {},
   "source": [
    "### 21. Shape Area and Perimeter Classes"
   ]
  },
  {
   "cell_type": "code",
   "execution_count": 8,
   "metadata": {},
   "outputs": [],
   "source": [
    "class Shape:\n",
    "    \n",
    "    def __init__(self,shape):\n",
    "        self.shape = shape\n",
    "        \n",
    "    def area(self):\n",
    "        pass\n",
    "    \n",
    "    def perimeter(self):\n",
    "        pass\n",
    "    \n",
    "class Circle(Shape):\n",
    "    pi = 3.14\n",
    "    \n",
    "    def __init__(self,shape,radius):\n",
    "        super().__init__(shape)\n",
    "        self.radius = radius\n",
    "        \n",
    "    def area(self):\n",
    "        a = Circle.pi * (self.radius**2)\n",
    "        print(\"Area : \",a)\n",
    "    \n",
    "    def circumference(self):\n",
    "        c = 2 * Circle.pi * self.radius\n",
    "        print('Circumference : ',c)\n",
    "    \n",
    "class Triangle(Shape):\n",
    "    \n",
    "    def __init__(self,shape,a,b,c,h):\n",
    "        super().__init__(shape)\n",
    "        self.a = a # Side\n",
    "        self.b = b # Side and Base\n",
    "        self.c = c # Side\n",
    "        self.h = h # Height\n",
    "        \n",
    "    def area(self):\n",
    "        a = (self.h * self.b) / 2\n",
    "        print(\"Area : \",a)\n",
    "        \n",
    "    def perimeter(self):\n",
    "        p = self.a + self.b + self.c\n",
    "        print(\"Perimeter : \",p)\n",
    "        \n",
    "class Square(Shape):\n",
    "    \n",
    "    def __init__(self,shape,a):\n",
    "        super().__init__(shape)\n",
    "        self.a = a # Side\n",
    "        \n",
    "    def area(self):\n",
    "        a = self.a**2\n",
    "        print(\"Area : \",a)\n",
    "        \n",
    "    def perimeter(self):\n",
    "        p = self.a*4\n",
    "        print(\"Perimeter : \",p)\n",
    "        \n",
    "class Diamond(Shape):\n",
    "    \n",
    "    def __init__(self,shape,a,d1,d2):\n",
    "        super().__init__(shape)\n",
    "        self.a = a # Side\n",
    "        self.d1 = d1 # Diagonal\n",
    "        self.d2 = d2 # Diagonal\n",
    "        \n",
    "    def area(self):\n",
    "        a = (self.d1*self.d2) / 2\n",
    "        print(\"Area : \",a)\n",
    "        \n",
    "    def perimeter(self):\n",
    "        p = self.a*4\n",
    "        print(\"Perimeter : \",p)\n",
    "        \n",
    "class Rectangle(Shape):\n",
    "    \n",
    "    def __init__(self,shape,w,h):\n",
    "        super().__init__(shape)\n",
    "        self.w = w # Width\n",
    "        self.h = h # Height\n",
    "        \n",
    "    def area(self):\n",
    "        a = self.w * self.h\n",
    "        print(\"Area : \",a)\n",
    "        \n",
    "    def perimeter(self):\n",
    "        p = 2 * (self.w + self.h)\n",
    "        print(\"Perimeter : \",p)"
   ]
  },
  {
   "cell_type": "code",
   "execution_count": 9,
   "metadata": {},
   "outputs": [],
   "source": [
    "c1 = Circle('Circle',3)"
   ]
  },
  {
   "cell_type": "code",
   "execution_count": 10,
   "metadata": {},
   "outputs": [
    {
     "name": "stdout",
     "output_type": "stream",
     "text": [
      "Area :  28.26\n"
     ]
    }
   ],
   "source": [
    "c1.area()"
   ]
  },
  {
   "cell_type": "code",
   "execution_count": 11,
   "metadata": {},
   "outputs": [
    {
     "name": "stdout",
     "output_type": "stream",
     "text": [
      "Circumference :  18.84\n"
     ]
    }
   ],
   "source": [
    "c1.circumference()"
   ]
  },
  {
   "cell_type": "code",
   "execution_count": 13,
   "metadata": {},
   "outputs": [],
   "source": [
    "t1 = Triangle('Triangle',7,6,7,8)"
   ]
  },
  {
   "cell_type": "code",
   "execution_count": 14,
   "metadata": {},
   "outputs": [
    {
     "name": "stdout",
     "output_type": "stream",
     "text": [
      "Area :  24.0\n"
     ]
    }
   ],
   "source": [
    "t1.area()"
   ]
  },
  {
   "cell_type": "code",
   "execution_count": 15,
   "metadata": {},
   "outputs": [
    {
     "name": "stdout",
     "output_type": "stream",
     "text": [
      "Perimeter :  20\n"
     ]
    }
   ],
   "source": [
    "t1.perimeter()"
   ]
  },
  {
   "cell_type": "code",
   "execution_count": 16,
   "metadata": {},
   "outputs": [],
   "source": [
    "s1 = Square('Square',20)"
   ]
  },
  {
   "cell_type": "code",
   "execution_count": 17,
   "metadata": {},
   "outputs": [
    {
     "name": "stdout",
     "output_type": "stream",
     "text": [
      "Area :  400\n"
     ]
    }
   ],
   "source": [
    "s1.area()"
   ]
  },
  {
   "cell_type": "code",
   "execution_count": 18,
   "metadata": {},
   "outputs": [
    {
     "name": "stdout",
     "output_type": "stream",
     "text": [
      "Perimeter :  80\n"
     ]
    }
   ],
   "source": [
    "s1.perimeter()"
   ]
  },
  {
   "cell_type": "code",
   "execution_count": 19,
   "metadata": {},
   "outputs": [],
   "source": [
    "d1 = Diamond('Diamond',8,9,10)"
   ]
  },
  {
   "cell_type": "code",
   "execution_count": 20,
   "metadata": {},
   "outputs": [
    {
     "name": "stdout",
     "output_type": "stream",
     "text": [
      "Area :  45.0\n"
     ]
    }
   ],
   "source": [
    "d1.area()"
   ]
  },
  {
   "cell_type": "code",
   "execution_count": 21,
   "metadata": {},
   "outputs": [
    {
     "name": "stdout",
     "output_type": "stream",
     "text": [
      "Perimeter :  32\n"
     ]
    }
   ],
   "source": [
    "d1.perimeter()"
   ]
  },
  {
   "cell_type": "code",
   "execution_count": 22,
   "metadata": {},
   "outputs": [],
   "source": [
    "r1 = Rectangle('Rectangle',5,6)"
   ]
  },
  {
   "cell_type": "code",
   "execution_count": 23,
   "metadata": {},
   "outputs": [
    {
     "name": "stdout",
     "output_type": "stream",
     "text": [
      "Area :  30\n"
     ]
    }
   ],
   "source": [
    "r1.area()"
   ]
  },
  {
   "cell_type": "code",
   "execution_count": 24,
   "metadata": {},
   "outputs": [
    {
     "name": "stdout",
     "output_type": "stream",
     "text": [
      "Perimeter :  22\n"
     ]
    }
   ],
   "source": [
    "r1.perimeter()"
   ]
  },
  {
   "cell_type": "markdown",
   "metadata": {},
   "source": [
    "### 22. Family Tree Creator"
   ]
  },
  {
   "cell_type": "code",
   "execution_count": 31,
   "metadata": {},
   "outputs": [],
   "source": [
    "class Person:\n",
    "    \n",
    "    def __init__(self,name,birth,level=0,death=None):\n",
    "        self.name = name\n",
    "        self.birth = birth # Birth Date\n",
    "        self.level = level # Each level starting from 0 represents a generation\n",
    "        if death is None:\n",
    "            pass\n",
    "        else:\n",
    "            self.death = death # Death Date\n",
    "        self.lineage = []\n",
    "    \n",
    "    def add_member(self,person):\n",
    "        if person not in self.lineage:\n",
    "            self.lineage.append(person)\n",
    "            return \"Success!\"\n",
    "        else:\n",
    "            return \"Failure!\"\n",
    "    \n",
    "    def show_lineage(self):\n",
    "        for person in self.lineage:\n",
    "            print(\"--> {}\".format(person.name))\n",
    "    \n",
    "    def create_tree(self):\n",
    "        i = 0\n",
    "        value = 0\n",
    "        while i < len(self.lineage):\n",
    "            if self.lineage[i].level == value:\n",
    "                print(self.lineage[i].name, end = ' ')\n",
    "            else:\n",
    "                value += 1\n",
    "                print('\\n')\n",
    "                continue\n",
    "            i += 1"
   ]
  },
  {
   "cell_type": "code",
   "execution_count": 32,
   "metadata": {},
   "outputs": [],
   "source": [
    "p1 = Person(\"Alexander Estuesta\",\"10/11/1999\")"
   ]
  },
  {
   "cell_type": "code",
   "execution_count": 33,
   "metadata": {},
   "outputs": [
    {
     "data": {
      "text/plain": [
       "0"
      ]
     },
     "execution_count": 33,
     "metadata": {},
     "output_type": "execute_result"
    }
   ],
   "source": [
    "p1.level"
   ]
  },
  {
   "cell_type": "code",
   "execution_count": 34,
   "metadata": {},
   "outputs": [
    {
     "data": {
      "text/plain": [
       "'Alexander Estuesta'"
      ]
     },
     "execution_count": 34,
     "metadata": {},
     "output_type": "execute_result"
    }
   ],
   "source": [
    "p1.name"
   ]
  },
  {
   "cell_type": "code",
   "execution_count": 35,
   "metadata": {},
   "outputs": [
    {
     "data": {
      "text/plain": [
       "'10/11/1999'"
      ]
     },
     "execution_count": 35,
     "metadata": {},
     "output_type": "execute_result"
    }
   ],
   "source": [
    "p1.birth"
   ]
  },
  {
   "cell_type": "code",
   "execution_count": 36,
   "metadata": {},
   "outputs": [
    {
     "data": {
      "text/plain": [
       "'Success!'"
      ]
     },
     "execution_count": 36,
     "metadata": {},
     "output_type": "execute_result"
    }
   ],
   "source": [
    "p1.add_member(p1)"
   ]
  },
  {
   "cell_type": "code",
   "execution_count": 37,
   "metadata": {},
   "outputs": [
    {
     "name": "stdout",
     "output_type": "stream",
     "text": [
      "--> Alexander Estuesta\n"
     ]
    }
   ],
   "source": [
    "p1.show_lineage()"
   ]
  },
  {
   "cell_type": "code",
   "execution_count": 38,
   "metadata": {},
   "outputs": [],
   "source": [
    "p2 = Person(\"Scarlett Johannson\",\"22/11/1984\")"
   ]
  },
  {
   "cell_type": "code",
   "execution_count": 39,
   "metadata": {},
   "outputs": [
    {
     "data": {
      "text/plain": [
       "'Success!'"
      ]
     },
     "execution_count": 39,
     "metadata": {},
     "output_type": "execute_result"
    }
   ],
   "source": [
    "p1.add_member(p2)"
   ]
  },
  {
   "cell_type": "code",
   "execution_count": 40,
   "metadata": {},
   "outputs": [
    {
     "name": "stdout",
     "output_type": "stream",
     "text": [
      "--> Alexander Estuesta\n",
      "--> Scarlett Johannson\n"
     ]
    }
   ],
   "source": [
    "p1.show_lineage()"
   ]
  },
  {
   "cell_type": "code",
   "execution_count": 41,
   "metadata": {},
   "outputs": [],
   "source": [
    "p3 = Person(\"Tim Estuesta\",\"25/12/2021\",level=1)"
   ]
  },
  {
   "cell_type": "code",
   "execution_count": 42,
   "metadata": {},
   "outputs": [
    {
     "data": {
      "text/plain": [
       "1"
      ]
     },
     "execution_count": 42,
     "metadata": {},
     "output_type": "execute_result"
    }
   ],
   "source": [
    "p3.level"
   ]
  },
  {
   "cell_type": "code",
   "execution_count": 43,
   "metadata": {},
   "outputs": [
    {
     "data": {
      "text/plain": [
       "'Success!'"
      ]
     },
     "execution_count": 43,
     "metadata": {},
     "output_type": "execute_result"
    }
   ],
   "source": [
    "p1.add_member(p3)"
   ]
  },
  {
   "cell_type": "code",
   "execution_count": 44,
   "metadata": {
    "scrolled": true
   },
   "outputs": [
    {
     "name": "stdout",
     "output_type": "stream",
     "text": [
      "--> Alexander Estuesta\n",
      "--> Scarlett Johannson\n",
      "--> Tim Estuesta\n"
     ]
    }
   ],
   "source": [
    "p1.show_lineage()"
   ]
  },
  {
   "cell_type": "code",
   "execution_count": 45,
   "metadata": {},
   "outputs": [
    {
     "name": "stdout",
     "output_type": "stream",
     "text": [
      "Alexander Estuesta Scarlett Johannson \n",
      "\n",
      "Tim Estuesta "
     ]
    }
   ],
   "source": [
    "p1.create_tree()"
   ]
  },
  {
   "cell_type": "code",
   "execution_count": 46,
   "metadata": {},
   "outputs": [],
   "source": [
    "p4 = Person(\"Kim Namjoon\",\"12/9/1994\",level=1)"
   ]
  },
  {
   "cell_type": "code",
   "execution_count": 47,
   "metadata": {},
   "outputs": [],
   "source": [
    "p5 = Person(\"Teddy Estuesta\",\"2/7/2016\",level=1)"
   ]
  },
  {
   "cell_type": "code",
   "execution_count": 48,
   "metadata": {},
   "outputs": [
    {
     "data": {
      "text/plain": [
       "'Success!'"
      ]
     },
     "execution_count": 48,
     "metadata": {},
     "output_type": "execute_result"
    }
   ],
   "source": [
    "p1.add_member(p4)"
   ]
  },
  {
   "cell_type": "code",
   "execution_count": 49,
   "metadata": {},
   "outputs": [
    {
     "data": {
      "text/plain": [
       "'Success!'"
      ]
     },
     "execution_count": 49,
     "metadata": {},
     "output_type": "execute_result"
    }
   ],
   "source": [
    "p1.add_member(p5)"
   ]
  },
  {
   "cell_type": "code",
   "execution_count": 50,
   "metadata": {},
   "outputs": [
    {
     "name": "stdout",
     "output_type": "stream",
     "text": [
      "--> Alexander Estuesta\n",
      "--> Scarlett Johannson\n",
      "--> Tim Estuesta\n",
      "--> Kim Namjoon\n",
      "--> Teddy Estuesta\n"
     ]
    }
   ],
   "source": [
    "p1.show_lineage()"
   ]
  },
  {
   "cell_type": "code",
   "execution_count": 51,
   "metadata": {},
   "outputs": [
    {
     "name": "stdout",
     "output_type": "stream",
     "text": [
      "Alexander Estuesta Scarlett Johannson \n",
      "\n",
      "Tim Estuesta Kim Namjoon Teddy Estuesta "
     ]
    }
   ],
   "source": [
    "p1.create_tree()"
   ]
  },
  {
   "cell_type": "code",
   "execution_count": 52,
   "metadata": {},
   "outputs": [],
   "source": [
    "p6 = Person(\"Kim Kardashian\",\"7/6/2022\",level=2)"
   ]
  },
  {
   "cell_type": "code",
   "execution_count": 53,
   "metadata": {},
   "outputs": [
    {
     "data": {
      "text/plain": [
       "'Success!'"
      ]
     },
     "execution_count": 53,
     "metadata": {},
     "output_type": "execute_result"
    }
   ],
   "source": [
    "p1.add_member(p6)"
   ]
  },
  {
   "cell_type": "code",
   "execution_count": 54,
   "metadata": {},
   "outputs": [
    {
     "name": "stdout",
     "output_type": "stream",
     "text": [
      "--> Alexander Estuesta\n",
      "--> Scarlett Johannson\n",
      "--> Tim Estuesta\n",
      "--> Kim Namjoon\n",
      "--> Teddy Estuesta\n",
      "--> Kim Kardashian\n"
     ]
    }
   ],
   "source": [
    "p1.show_lineage()"
   ]
  },
  {
   "cell_type": "code",
   "execution_count": 55,
   "metadata": {},
   "outputs": [
    {
     "name": "stdout",
     "output_type": "stream",
     "text": [
      "Alexander Estuesta Scarlett Johannson \n",
      "\n",
      "Tim Estuesta Kim Namjoon Teddy Estuesta \n",
      "\n",
      "Kim Kardashian "
     ]
    }
   ],
   "source": [
    "p1.create_tree()"
   ]
  },
  {
   "cell_type": "markdown",
   "metadata": {},
   "source": [
    "### 23. Happy Numbers"
   ]
  },
  {
   "cell_type": "code",
   "execution_count": 15,
   "metadata": {},
   "outputs": [],
   "source": [
    "def int_to_digits(number):\n",
    "    digits = []\n",
    "    \n",
    "    while number > 0:\n",
    "        digits.append(number % 10)\n",
    "        number = (number - (number % 10)) // 10\n",
    "    \n",
    "    digits.reverse()\n",
    "    return digits"
   ]
  },
  {
   "cell_type": "code",
   "execution_count": 16,
   "metadata": {},
   "outputs": [],
   "source": [
    "def is_happy_number(number):\n",
    "    \n",
    "    previous_numbers = []\n",
    "    \n",
    "    while True:\n",
    "        \n",
    "        digits = int_to_digits(number)\n",
    "        sum_of_squares = sum(list(map(lambda x: x**2, digits)))\n",
    "        if sum_of_squares == 1:\n",
    "            return True\n",
    "        elif sum_of_squares in previous_numbers:\n",
    "            return False\n",
    "        else:\n",
    "            number = sum_of_squares\n",
    "            previous_numbers.append(number)"
   ]
  },
  {
   "cell_type": "code",
   "execution_count": 17,
   "metadata": {},
   "outputs": [
    {
     "name": "stdout",
     "output_type": "stream",
     "text": [
      "2\n",
      "[7, 10, 13, 19, 23, 28, 31, 32]\n"
     ]
    }
   ],
   "source": [
    "def print_happy_numbers(number):\n",
    "    \n",
    "    happy_numbers = []\n",
    "    count = 0\n",
    "    \n",
    "    while count < 8:\n",
    "        if is_happy_number(number):\n",
    "            happy_numbers.append(number)\n",
    "            count += 1\n",
    "        number += 1\n",
    "        \n",
    "    return happy_numbers\n",
    "\n",
    "print(print_happy_numbers(int(input())))"
   ]
  },
  {
   "cell_type": "markdown",
   "metadata": {},
   "source": [
    "### 24. Mad Libs Generator"
   ]
  },
  {
   "cell_type": "code",
   "execution_count": 16,
   "metadata": {},
   "outputs": [],
   "source": [
    "def mad_libs():\n",
    "    \n",
    "    print(\"Three [adjective] mice, three [adjective] mice, \\nSee how they [verb], see how they [verb], \\nThey all [verb in past tense] after the farmer’s [noun], \\nWho cut off their tails with a [noun], \\nDid you ever see such a [noun] in your life, \\nAs three [adjective] mice?\")\n",
    "    \n",
    "    \n",
    "    a = input(\"\\nAdjective: \")\n",
    "    b = input(\"Verb: \")\n",
    "    c = input(\"Verb in the past tense: \")\n",
    "    d = input(\"Noun: \")\n",
    "    e = input(\"Noun: \")\n",
    "    f = input(\"Noun: \")\n",
    "    g = input(\"Adjective: \")\n",
    "    \n",
    "    print(f\"\\nThree {a} mice, three {a} mice\")\n",
    "    print(f\"See how they {b}, see how they {b}\")\n",
    "    print(f\"They all {c} after the farmer's {d}\")\n",
    "    print(f\"Who cut off their tails with a {e}\")\n",
    "    print(f\"Did you ever see such a {f} a thing in your life,\")\n",
    "    print(f\"As three {g} mice?\")"
   ]
  },
  {
   "cell_type": "code",
   "execution_count": 17,
   "metadata": {},
   "outputs": [
    {
     "name": "stdout",
     "output_type": "stream",
     "text": [
      "Three [adjective] mice, three [adjective] mice, \n",
      "See how they [verb], see how they [verb], \n",
      "They all [verb in past tense] after the farmer’s [noun], \n",
      "Who cut off their tails with a [noun], \n",
      "Did you ever see such a [noun] in your life, \n",
      "As three [adjective] mice?\n",
      "\n",
      "Adjective: sexy\n",
      "Verb: bum\n",
      "Verb in the past tense: bummed\n",
      "Noun: Father\n",
      "Noun: Orange\n",
      "Noun: God\n",
      "Adjective: Sexy\n",
      "\n",
      "Three sexy mice, three sexy mice\n",
      "See how they bum, see how they bum\n",
      "They all bummed after the farmer's Father\n",
      "Who cut off their tails with a Orange\n",
      "Did you ever see such a God a thing in your life,\n",
      "As three Sexy mice?\n"
     ]
    }
   ],
   "source": [
    "mad_libs()"
   ]
  },
  {
   "cell_type": "markdown",
   "metadata": {},
   "source": [
    "### 25. Guessing Game Challenge!"
   ]
  },
  {
   "cell_type": "code",
   "execution_count": 4,
   "metadata": {},
   "outputs": [],
   "source": [
    "import random\n",
    "\n",
    "def guessing_game_challenge():\n",
    "    \n",
    "    print(\"Welcome to the Guessing Game Challenge!\")\n",
    "    print(\"The challenge you must face, is guessing a number between 1-100 generated by the system.\")\n",
    "    print(\"And the goal is to guess in the least number of attempts.\")\n",
    "    print(\"The system will tell you whether you are within ten of the number, hinting 'WARM!'\")\n",
    "    print(\"Or whether you are farther than ten, hinting 'COLD!'\")\n",
    "    print(\"Try your best and good luck!\")\n",
    "    \n",
    "    game_on = None\n",
    "    guesses = 0\n",
    "    random_number = random.randint(1,100)\n",
    "    a = \"WARM\"\n",
    "    b = \"COLD\"\n",
    "    \n",
    "    \n",
    "    play_game = input(\"Do you want to play? Enter Yes or No. \")\n",
    "    \n",
    "    if play_game[0].lower() == 'y':\n",
    "        game_on = True\n",
    "    else:\n",
    "        game_on = False\n",
    "    \n",
    "    while game_on:\n",
    "            \n",
    "            guess = int(input(\"\\nPlease enter a number between 1-100:\"))\n",
    "            \n",
    "            if guess not in list(range(1,101)):\n",
    "                print(\"OUT OF BOUNDS!\")\n",
    "            \n",
    "            else:\n",
    "                \n",
    "                if guess == random_number:\n",
    "                    print(\"\\nYou've guessed correctly! Congratulations!\")\n",
    "                    game_on = False\n",
    "                else:\n",
    "                    if abs(random_number-guess) < 10:\n",
    "                        print(f\"{a}!\")\n",
    "                    else:\n",
    "                        print(f\"{b}!\")\n",
    "            \n",
    "            a = \"WARMER\"\n",
    "            b = \"COLDER\"\n",
    "            guesses += 1\n",
    "            \n",
    "            \n",
    "    print(\"Number of guesses: \",guesses)"
   ]
  },
  {
   "cell_type": "code",
   "execution_count": null,
   "metadata": {},
   "outputs": [],
   "source": [
    "guessing_game_challenge()"
   ]
  },
  {
   "cell_type": "markdown",
   "metadata": {},
   "source": [
    "### 26. Text-Based Adventure Game: Escape"
   ]
  },
  {
   "cell_type": "code",
   "execution_count": 1,
   "metadata": {},
   "outputs": [],
   "source": [
    "class Player:\n",
    "    \n",
    "    def __init__(self,name):\n",
    "        self.name = name"
   ]
  },
  {
   "cell_type": "code",
   "execution_count": 2,
   "metadata": {},
   "outputs": [],
   "source": [
    "def introduction():\n",
    "    \n",
    "    print(\"Welcome to Escape!\")\n",
    "    print(\"You're trapped in a room all alone\")\n",
    "    print(\"With no one in sight\")\n",
    "    print(\"You have to escape this place and find out what's going on.\")\n",
    "    \n",
    "    print(\"\\nHere are the rules:\")\n",
    "    print(\"1. Navigate through each room findiing keys to aid in your escape.\")\n",
    "    print(\"2. You'll also happen to obatin random items in your escape that could be useful.\")\n",
    "    print(\"3. Finally don't cheat!\")"
   ]
  },
  {
   "cell_type": "code",
   "execution_count": 3,
   "metadata": {},
   "outputs": [],
   "source": [
    "def index(n):\n",
    "    for num in range(1,n):\n",
    "        yield num"
   ]
  },
  {
   "cell_type": "code",
   "execution_count": 4,
   "metadata": {},
   "outputs": [],
   "source": [
    "import random\n",
    "\n",
    "def escape():\n",
    "    \n",
    "    introduction()\n",
    "    \n",
    "    room = [None,None,None,None,None,None,'Key',None,None,None]\n",
    "    room_2 = [None,'Key',None,None,None]\n",
    "    room_3 = [None,None,None,None,None,None,None,None,None,'Key']\n",
    "    escape = None\n",
    "    \n",
    "    house = [room,room_2,room_3,escape]\n",
    "    \n",
    "    game_on = None\n",
    "    p1 = Player(input(\"\\nPlease enter your name \"))\n",
    "    inventory = []\n",
    "    moves = 0\n",
    "    n = 1\n",
    "    \n",
    "    play_game = input(\"\\nDo you want to play? Enter Yes or No \")\n",
    "    \n",
    "    if play_game[0].lower() == 'y':\n",
    "        game_on = True\n",
    "    else:\n",
    "        game_on = False\n",
    "        \n",
    "    while game_on:\n",
    "        \n",
    "        movement = ''\n",
    "        position = 0\n",
    "        \n",
    "        for i in range(len(room)):\n",
    "            if room[i] == 'Key':\n",
    "                position = i\n",
    "                \n",
    "        while movement not in list(range(len(room))):\n",
    "            \n",
    "            movement = int(input(\"\\nEnter a number from 1 to {} to move \".format(len(room)-1)))\n",
    "            \n",
    "            if movement not in list(range(len(room))):\n",
    "                print(\"Action unavailable\")\n",
    "                \n",
    "        p1 = room[movement]\n",
    "        \n",
    "        if room[movement] == room[position]:\n",
    "            print(\"\\nYou've discovered the key to the next room\")\n",
    "            print(\"\\nYou've entered the next room\")\n",
    "            inventory.append(room.pop(position))\n",
    "            n += 1\n",
    "            for x in index(n):\n",
    "                if x == 3:\n",
    "                    print(\"\\nCongratulations, you've escaped!\")\n",
    "                    game_on = False\n",
    "                else:\n",
    "                    room = house[x]\n",
    "        else:\n",
    "            print(\"Find a way out!\")\n",
    "            \n",
    "        moves += 1\n",
    "        \n",
    "    print(f\"\\nNumber of moves take: {moves} \")"
   ]
  },
  {
   "cell_type": "code",
   "execution_count": 5,
   "metadata": {},
   "outputs": [
    {
     "name": "stdout",
     "output_type": "stream",
     "text": [
      "Welcome to Escape!\n",
      "You're trapped in a room all alone\n",
      "With no one in sight\n",
      "You have to escape this place and find out what's going on.\n",
      "\n",
      "Here are the rules:\n",
      "1. Navigate through each room findiing keys to aid in your escape.\n",
      "2. You'll also happen to obatin random items in your escape that could be useful.\n",
      "3. Finally don't cheat!\n",
      "\n",
      "Please enter your nameAlex\n",
      "\n",
      "Do you want to play? Enter Yes or No Yes\n",
      "\n",
      "Enter a number from 1 to 9 to move 1\n",
      "Find a way out!\n",
      "\n",
      "Enter a number from 1 to 9 to move 2\n",
      "Find a way out!\n",
      "\n",
      "Enter a number from 1 to 9 to move 3\n",
      "Find a way out!\n",
      "\n",
      "Enter a number from 1 to 9 to move 4\n",
      "Find a way out!\n",
      "\n",
      "Enter a number from 1 to 9 to move 5\n",
      "Find a way out!\n",
      "\n",
      "Enter a number from 1 to 9 to move 6\n",
      "\n",
      "You've discovered the key to the next room\n",
      "\n",
      "You've entered the next room\n",
      "\n",
      "Enter a number from 1 to 4 to move 1\n",
      "\n",
      "You've discovered the key to the next room\n",
      "\n",
      "You've entered the next room\n",
      "\n",
      "Enter a number from 1 to 9 to move 1\n",
      "Find a way out!\n",
      "\n",
      "Enter a number from 1 to 9 to move 2\n",
      "Find a way out!\n",
      "\n",
      "Enter a number from 1 to 9 to move 3\n",
      "Find a way out!\n",
      "\n",
      "Enter a number from 1 to 9 to move 4\n",
      "Find a way out!\n",
      "\n",
      "Enter a number from 1 to 9 to move 5\n",
      "Find a way out!\n",
      "\n",
      "Enter a number from 1 to 9 to move 6\n",
      "Find a way out!\n",
      "\n",
      "Enter a number from 1 to 9 to move 7\n",
      "Find a way out!\n",
      "\n",
      "Enter a number from 1 to 9 to move 8\n",
      "Find a way out!\n",
      "\n",
      "Enter a number from 1 to 9 to move 9\n",
      "\n",
      "You've discovered the key to the next room\n",
      "\n",
      "You've entered the next room\n",
      "\n",
      "Congratulations, you've escaped!\n",
      "\n",
      "Number of moves take: 16 \n"
     ]
    }
   ],
   "source": [
    "escape()"
   ]
  },
  {
   "cell_type": "markdown",
   "metadata": {},
   "source": [
    "### 27. Dice Rolling Simulator"
   ]
  },
  {
   "cell_type": "code",
   "execution_count": 1,
   "metadata": {},
   "outputs": [],
   "source": [
    "import random\n",
    "\n",
    "def dice_simulator():\n",
    "    \n",
    "    while True:\n",
    "\n",
    "        x = input(\"Wanna roll the dice? Enter Yes or No \")\n",
    "        \n",
    "        if x[0].lower() == 'y':\n",
    "            print(random.randint(1,6))\n",
    "            \n",
    "        elif x[0].lower() == 'n':\n",
    "            break\n",
    "            \n",
    "        else:\n",
    "            print(\"Invalid choice! Try Again!\")\n",
    "            continue"
   ]
  },
  {
   "cell_type": "code",
   "execution_count": 2,
   "metadata": {},
   "outputs": [
    {
     "name": "stdout",
     "output_type": "stream",
     "text": [
      "Wanna roll the dice? Enter Yes or No 0\n",
      "Invalid choice! Try Again!\n",
      "Wanna roll the dice? Enter Yes or No monkey\n",
      "Invalid choice! Try Again!\n",
      "Wanna roll the dice? Enter Yes or No yes\n",
      "6\n",
      "Wanna roll the dice? Enter Yes or No no\n"
     ]
    }
   ],
   "source": [
    "dice_simulator()"
   ]
  },
  {
   "cell_type": "markdown",
   "metadata": {},
   "source": [
    "### 28. Hangman"
   ]
  },
  {
   "cell_type": "code",
   "execution_count": 1,
   "metadata": {},
   "outputs": [],
   "source": [
    "word_list = ['abruptly',\n",
    "'absurd',\n",
    "'abyss',\n",
    "'affix',\n",
    "'askew',\n",
    "'avenue',\n",
    "'awkward',\n",
    "'axiom',\n",
    "'azure',\n",
    "'bagpipes',\n",
    "'bandwagon',\n",
    "'banjo',\n",
    "'bayou',\n",
    "'beekeeper',\n",
    "'bikini',\n",
    "'blitz',\n",
    "'blizzard',\n",
    "'boggle',\n",
    "'bookworm',\n",
    "'boxcar',\n",
    "'boxful',\n",
    "'buckaroo',\n",
    "'buffalo',\n",
    "'buffoon',\n",
    "'buxom',\n",
    "'buzzard',\n",
    "'buzzing',\n",
    "'buzzwords',\n",
    "'caliph',\n",
    "'cobweb',\n",
    "'cockiness',\n",
    "'croquet',\n",
    "'crypt',\n",
    "'curacao',\n",
    "'cycle',\n",
    "'daiquiri',\n",
    "'dirndl',\n",
    "'disavow',\n",
    "'dizzying',\n",
    "'duplex',\n",
    "'dwarves',\n",
    "'embezzle',\n",
    "'equip',\n",
    "'espionage',\n",
    "'euouae',\n",
    "'exodus',\n",
    "'faking',\n",
    "'fishhook',\n",
    "'fixable',\n",
    "'fjord',\n",
    "'flapjack',\n",
    "'flopping',\n",
    "'fluffiness',\n",
    "'flyby',\n",
    "'foxglove',\n",
    "'frazzled',\n",
    "'frizzled',\n",
    "'fuchsia',\n",
    "'funny',\n",
    "'gabby',\n",
    "'galaxy',\n",
    "'galvanize',\n",
    "'gazebo',\n",
    "'giaour',\n",
    "'gizmo',\n",
    "'glowworm',\n",
    "'glyph',\n",
    "'gnarly',\n",
    "'gnostic',\n",
    "'gossip',\n",
    "'grogginess',\n",
    "'haiku',\n",
    "'haphazard',\n",
    "'hyphen',\n",
    "'iatrogenic',\n",
    "'icebox',\n",
    "'injury',\n",
    "'ivory',\n",
    "'ivy',\n",
    "'jackpot',\n",
    "'jaundice',\n",
    "'jawbreaker',\n",
    "'jaywalk',\n",
    "'jazziest',\n",
    "'jazzy',\n",
    "'jelly',\n",
    "'jigsaw',\n",
    "'jinx',\n",
    "'jiujitsu',\n",
    "'jockey',\n",
    "'jogging',\n",
    "'joking',\n",
    "'jovial',\n",
    "'joyful',\n",
    "'juicy',\n",
    "'jukebox',\n",
    "'jumbo',\n",
    "'kayak',\n",
    "'kazoo',\n",
    "'keyhole',\n",
    "'khaki',\n",
    "'kilobyte',\n",
    "'kiosk',\n",
    "'kitsch',\n",
    "'kiwifruit',\n",
    "'klutz',\n",
    "'knapsack',\n",
    "'larynx',\n",
    "'lengths',\n",
    "'lucky',\n",
    "'luxury',\n",
    "'lymph',\n",
    "'marquis',\n",
    "'matrix',\n",
    "'megahertz',\n",
    "'microwave',\n",
    "'mnemonic',\n",
    "'mystify',\n",
    "'naphtha',\n",
    "'nightclub',\n",
    "'nowadays',\n",
    "'numbskull',\n",
    "'nymph',\n",
    "'onyx',\n",
    "'ovary',\n",
    "'oxidize',\n",
    "'oxygen',\n",
    "'pajama',\n",
    "'peekaboo',\n",
    "'phlegm',\n",
    "'pixel',\n",
    "'pizazz',\n",
    "'pneumonia',\n",
    "'polka',\n",
    "'pshaw',\n",
    "'psyche',\n",
    "'puppy',\n",
    "'puzzling',\n",
    "'quartz',\n",
    "'queue',\n",
    "'quips',\n",
    "'quixotic',\n",
    "'quiz',\n",
    "'quizzes',\n",
    "'quorum',\n",
    "'razzmatazz',\n",
    "'rhubarb',\n",
    "'rhythm',\n",
    "'rickshaw',\n",
    "'schnapps',\n",
    "'scratch',\n",
    "'shiv',\n",
    "'snazzy',\n",
    "'sphinx',\n",
    "'spritz',\n",
    "'squawk',\n",
    "'staff',\n",
    "'strength',\n",
    "'strengths',\n",
    "'stretch',\n",
    "'stronghold',\n",
    "'stymied',\n",
    "'subway',\n",
    "'swivel',\n",
    "'syndrome',\n",
    "'thriftless',\n",
    "'thumbscrew',\n",
    "'topaz',\n",
    "'transcript',\n",
    "'transgress',\n",
    "'transplant',\n",
    "'triphthong',\n",
    "'twelfth',\n",
    "'twelfths',\n",
    "'unknown',\n",
    "'unworthy',\n",
    "'unzip',\n",
    "'uptown',\n",
    "'vaporize',\n",
    "'vixen',\n",
    "'vodka',\n",
    "'voodoo',\n",
    "'vortex',\n",
    "'voyeurism',\n",
    "'walkway',\n",
    "'waltz',\n",
    "'wave',\n",
    "'wavy',\n",
    "'waxy',\n",
    "'wellspring',\n",
    "'wheezy',\n",
    "'whiskey',\n",
    "'whizzing',\n",
    "'whomever',\n",
    "'wimpy',\n",
    "'witchcraft',\n",
    "'wizard',\n",
    "'woozy',\n",
    "'wristwatch',\n",
    "'wyvern',\n",
    "'xylophone',\n",
    "'yachtsman',\n",
    "'yippee',\n",
    "'yoked',\n",
    "'youthful',\n",
    "'yummy',\n",
    "'zephyr',\n",
    "'zigzag',\n",
    "'zigzagging',\n",
    "'zilch',\n",
    "'zipper',\n",
    "'zodiac',\n",
    "'zombie']"
   ]
  },
  {
   "cell_type": "code",
   "execution_count": 2,
   "metadata": {},
   "outputs": [],
   "source": [
    "def word_check(correct_letters,random_word):\n",
    "    \n",
    "    while True:\n",
    "        \n",
    "        print(\"\\n\",correct_letters.keys())\n",
    "        \n",
    "        x = input(\"\\nNow guess the word: \")\n",
    "        \n",
    "        if x.lower() == random_word:\n",
    "            print(\"\\nCongratulations, you've done it!\")\n",
    "            return True\n",
    "        \n",
    "        else:\n",
    "            print(\"Wrong word! Try again!\")"
   ]
  },
  {
   "cell_type": "code",
   "execution_count": 6,
   "metadata": {},
   "outputs": [],
   "source": [
    "import random\n",
    "import string\n",
    "\n",
    "def hangman():\n",
    "    \n",
    "    print(\"Welcome to Hangman!\")\n",
    "    print(\"Guess the letters!\")\n",
    "    print(\"After you've guessed the letters, figure out the word from the scrambled letters\")\n",
    "    \n",
    "    n = 9\n",
    "    game_on = None\n",
    "    alphabet = string.ascii_lowercase\n",
    "    random_word = word_list[random.randint(0,213)]\n",
    "    correct_letters = {}\n",
    "    guesses = []\n",
    "    \n",
    "    play_game = input(\"\\nDo you want to play? Enter Yes or No \")\n",
    "    \n",
    "    if play_game[0].lower() == 'y':\n",
    "        game_on = True\n",
    "    else:\n",
    "        game_on = False\n",
    "        \n",
    "    while game_on:\n",
    "        \n",
    "        print(f\"\\nThis is the length of your word, {len(random_word)}\")\n",
    "        \n",
    "        guess = input(\"Please enter a letter: \")\n",
    "        \n",
    "        if guess[0].lower() not in alphabet:\n",
    "            print(\"WRONG! TRY AGAIN!\")\n",
    "            \n",
    "        else:\n",
    "            \n",
    "            if len(guess) == 1:\n",
    "                \n",
    "                if guess in random_word:\n",
    "                    \n",
    "                    if guess not in correct_letters:\n",
    "                        correct_letters[guess] = random_word.count(guess)\n",
    "                        print(\"Correct!\")\n",
    "                        print(correct_letters)\n",
    "                        \n",
    "                        if sum(correct_letters.value()) == len(random_word):\n",
    "                            if word_check(correct_letters,random_word):\n",
    "                                break\n",
    "                    \n",
    "                    else:\n",
    "                        print(\"\\nYou've already given that guess!\")\n",
    "                        print(correct_letters.keys())\n",
    "                        print(guesses)\n",
    "                        continue\n",
    "                        \n",
    "                else:\n",
    "                    \n",
    "                    if guess not in guesses:\n",
    "                        print(\"Incorrect!\")\n",
    "                        print(f\"You have {n} chances left!\")\n",
    "                        guesses.append(guess)\n",
    "                        print(guesses)\n",
    "                        n -= 1\n",
    "                        \n",
    "                        if n == 0:\n",
    "                            print(\"\\nNo more chances left! Try your luck again next time!\")\n",
    "                            print(f\"\\nThis was your word {random_word}\")\n",
    "                            game_on = False\n",
    "                            \n",
    "                    else:\n",
    "                        print(\"\\nYou've already given that guess! Try again!\")\n",
    "                        print(guesses)\n",
    "                        \n",
    "            else:\n",
    "                print(\"\\nThat's more than 1 letter! Try again!\")\n",
    "                continue"
   ]
  }
 ],
 "metadata": {
  "kernelspec": {
   "display_name": "Python 3",
   "language": "python",
   "name": "python3"
  },
  "language_info": {
   "codemirror_mode": {
    "name": "ipython",
    "version": 3
   },
   "file_extension": ".py",
   "mimetype": "text/x-python",
   "name": "python",
   "nbconvert_exporter": "python",
   "pygments_lexer": "ipython3",
   "version": "3.8.5"
  }
 },
 "nbformat": 4,
 "nbformat_minor": 4
}
